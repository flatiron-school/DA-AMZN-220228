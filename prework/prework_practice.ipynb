{
 "cells": [
  {
   "cell_type": "markdown",
   "metadata": {},
   "source": [
    "# Prework Practice\n",
    "\n",
    "### Working in Jupyter Notebooks\n",
    "\n",
    "###### Edit Mode (Insert Mode)\n",
    "- Double-click on a cell\n",
    "- Press `enter` while cell is highlighted blue\n",
    "\n",
    "###### Command Mode\n",
    "- Press `esc` to enter Command Mode\n",
    "\n",
    "###### Code vs Markdown Cells\n",
    "While in command mode:\n",
    "- Press `y` to make the cell a code cell\n",
    "- Press `m` to make cell a markdown cell\n",
    "\n",
    "###### Adding and Deleting Cells\n",
    "While in command mode:\n",
    "- Press `a` to add a cell above current cell\n",
    "- Press `b` to add a cell below current cell\n",
    "- Double press `d` to delete selected cell"
   ]
  },
  {
   "cell_type": "code",
   "execution_count": null,
   "metadata": {},
   "outputs": [],
   "source": [
    "# TRY OUT SOME OF THESE COMMANDS!"
   ]
  },
  {
   "cell_type": "markdown",
   "metadata": {},
   "source": [
    "## FizzBuzz (Part 1)\n",
    "\n",
    "Write a function that accepts a single integer. The function should return the following:\n",
    "- If the integer is divisible by 3, return \"Fizz\"\n",
    "- If the integer is divisible by 5, return \"Buzz\"\n",
    "- If the integer is divisible by both 3 and 5, return \"FizzBuzz\"\n",
    "- If the integer is not divisible by 3 or 5, return the integer"
   ]
  },
  {
   "cell_type": "code",
   "execution_count": 15,
   "metadata": {},
   "outputs": [],
   "source": [
    "number = 15"
   ]
  },
  {
   "cell_type": "code",
   "execution_count": 25,
   "metadata": {},
   "outputs": [],
   "source": [
    "# Your code here\n",
    "\n",
    "def fizzbuzz(num):\n",
    "\n",
    "    # if num modulus 5 is equal to 0 AND num modulus 3 is equal to 0 - print \"FizzBuzz\"\n",
    "    if (num % 3 == 0) and (num % 5 == 0):\n",
    "        return 'FizzBuzz'\n",
    "\n",
    "    # if num modulus 3 is equal to 0 - print \"Fizz\"\n",
    "    elif num % 3 == 0:\n",
    "        return 'Fizz'\n",
    "\n",
    "    # if num modulus 5 is equal to 0 - print \"Buzz\"\n",
    "    elif num % 5 == 0:\n",
    "        return 'Buzz'\n",
    "\n",
    "    # if num is no divisible by 3 or 5 (three conditionals above were False) - print num\n",
    "    else:\n",
    "        return num"
   ]
  },
  {
   "cell_type": "code",
   "execution_count": 28,
   "metadata": {},
   "outputs": [],
   "source": [
    "fizzbuzz(number)"
   ]
  },
  {
   "cell_type": "code",
   "execution_count": 29,
   "metadata": {},
   "outputs": [
    {
     "name": "stdout",
     "output_type": "stream",
     "text": [
      "FizzBuzz\n"
     ]
    }
   ],
   "source": [
    "print(fizzbuzz_150)"
   ]
  },
  {
   "cell_type": "markdown",
   "metadata": {},
   "source": [
    "## FizzBuzz (Part 2)\n",
    "\n",
    "Now that we have a function that can solve the \"FizzBuzz problem\" for a single number, we want to apply it to multiple numbers at once. Write a second function, `fizzbuzz_dict` that accepts a single integer, `N` and calls our original `FizzBuzz` function for every number 1-N. This function should return a dictionary where the keys are every value 1-N and the values are the associated string returned from calling the `FizzBuzz` function."
   ]
  },
  {
   "cell_type": "code",
   "execution_count": 30,
   "metadata": {},
   "outputs": [],
   "source": [
    "example_dict = {1:1, 2: 2, 3: 'Fizz', 4:4, 5:\"Buzz\"}"
   ]
  },
  {
   "cell_type": "code",
   "execution_count": 31,
   "metadata": {},
   "outputs": [
    {
     "data": {
      "text/plain": [
       "'Fizz'"
      ]
     },
     "execution_count": 31,
     "metadata": {},
     "output_type": "execute_result"
    }
   ],
   "source": [
    "example_dict[3]"
   ]
  },
  {
   "cell_type": "code",
   "execution_count": 32,
   "metadata": {},
   "outputs": [],
   "source": [
    "example_dict[6] = 'Fizz'"
   ]
  },
  {
   "cell_type": "code",
   "execution_count": 33,
   "metadata": {},
   "outputs": [
    {
     "data": {
      "text/plain": [
       "{1: 1, 2: 2, 3: 'Fizz', 4: 4, 5: 'Buzz', 6: 'Fizz'}"
      ]
     },
     "execution_count": 33,
     "metadata": {},
     "output_type": "execute_result"
    }
   ],
   "source": [
    "example_dict"
   ]
  },
  {
   "cell_type": "code",
   "execution_count": 34,
   "metadata": {},
   "outputs": [],
   "source": [
    "# Your code here\n",
    "n = 6 \n",
    "\n",
    "example_dict = {1:1, 2: 2, 3: 'Fizz', 4:4, 5:\"Buzz\"}\n",
    "\n",
    "def fizzbuzz_dict(n):\n",
    "    \n",
    "    # create empty dictionary\n",
    "    d = {}\n",
    "    \n",
    "    # loop over range of numbers 1 up to n\n",
    "    for number in range(1, n):\n",
    "    \n",
    "        # call FizzBuzz function for every number in loop\n",
    "        number_value = fizzbuzz(number)\n",
    "    \n",
    "        # store number and associated value from FizzBuzz function in dictionary\n",
    "        d[number] = number_value\n",
    "        \n",
    "    # return dictionary\n",
    "    return d"
   ]
  },
  {
   "cell_type": "code",
   "execution_count": 42,
   "metadata": {},
   "outputs": [
    {
     "data": {
      "text/plain": [
       "{1: 1, 2: 2, 3: 'Fizz', 4: 4, 5: 'Buzz'}"
      ]
     },
     "execution_count": 42,
     "metadata": {},
     "output_type": "execute_result"
    }
   ],
   "source": [
    "fizzbuzz_dict(6)"
   ]
  },
  {
   "cell_type": "markdown",
   "metadata": {},
   "source": [
    "## FizzBuzz Repeats\n",
    "\n",
    "We would like to know how many times a value was repeated in our fizzbuzz dictionary. Create a list of the values in dictionary. Cast it as a set. Subtract the number of elements in the set from number of elements in the list to get the number of repeats."
   ]
  },
  {
   "cell_type": "code",
   "execution_count": 40,
   "metadata": {},
   "outputs": [],
   "source": [
    "# Your code here\n",
    "fizzbuzz_100 = fizzbuzz_dict(100)"
   ]
  },
  {
   "cell_type": "code",
   "execution_count": 50,
   "metadata": {},
   "outputs": [],
   "source": [
    "fizzbuzz_list = list(fizzbuzz_100.values())"
   ]
  },
  {
   "cell_type": "code",
   "execution_count": 52,
   "metadata": {},
   "outputs": [],
   "source": [
    "# Find number of unique values in fizzbuzz_list??\n",
    "\n",
    "unique_values_fizzbuzz_list = set(fizzbuzz_list)"
   ]
  },
  {
   "cell_type": "code",
   "execution_count": 53,
   "metadata": {},
   "outputs": [
    {
     "data": {
      "text/plain": [
       "43"
      ]
     },
     "execution_count": 53,
     "metadata": {},
     "output_type": "execute_result"
    }
   ],
   "source": [
    "# Number of repeats in fizzbuzz_list??\n",
    "\n",
    "# number of repeats equals total number of elements minus total number of unique elements\n",
    "\n",
    "num_repeats = len(fizzbuzz_list) - len(unique_values_fizzbuzz_list)\n",
    "num_repeats"
   ]
  },
  {
   "cell_type": "markdown",
   "metadata": {},
   "source": [
    "## Calculate Total Savings\n",
    "\n",
    "A store recently placed a some orders to their vendor, who was having a large sale. The store would like to know what their total savings were across all of their orders. \n",
    "\n",
    "Write a function which accepts a list of items ordered and returns total savings across all items. Each item in the list is represented by a dictionary indicating the original price of the item, the sale price, and the quantity purchased.\n",
    "\n",
    "```\n",
    "[{'quantity': 496, 'original_price': 397, 'sale_price': 324},\n",
    " {'quantity': 427, 'original_price': 460, 'sale_price': 459},\n",
    " {'quantity': 193, 'original_price': 81, 'sale_price': 76}] -> 37600\n",
    "```"
   ]
  },
  {
   "cell_type": "code",
   "execution_count": 59,
   "metadata": {},
   "outputs": [],
   "source": [
    "# Your code here\n",
    "\n",
    "#function should be called \"calculate_total_savings\"\n",
    "\n",
    "def calculate_total_savings(order):\n",
    "\n",
    "    # initialize total_savings variable to 0\n",
    "    total_savings = 0\n",
    "\n",
    "    # loop over every item in the order\n",
    "    for item in order:\n",
    "\n",
    "        # calculate savings per item ((original_price - sale_price) * quantity)\n",
    "        savings_for_item = (item['original_price'] - item['sale_price']) * item['quantity']\n",
    "\n",
    "        # add savings for single item to total savings of the order\n",
    "        total_savings += savings_for_item\n",
    "\n",
    "    return total_savings"
   ]
  },
  {
   "cell_type": "code",
   "execution_count": 54,
   "metadata": {},
   "outputs": [
    {
     "data": {
      "text/plain": [
       "36208"
      ]
     },
     "execution_count": 54,
     "metadata": {},
     "output_type": "execute_result"
    }
   ],
   "source": [
    "# figure out how to calculate the savings for a single item\n",
    "\n",
    "item1 = {'quantity': 496, 'original_price': 397, 'sale_price': 324}\n",
    "\n",
    "(item1['original_price'] - item1['sale_price']) * item1['quantity']"
   ]
  },
  {
   "cell_type": "code",
   "execution_count": 63,
   "metadata": {},
   "outputs": [],
   "source": [
    "# Run this cell without changes to test your function\n",
    "order1 = [{'quantity': 496, 'original_price': 397, 'sale_price': 324},\n",
    "          {'quantity': 427, 'original_price': 460, 'sale_price': 459},\n",
    "          {'quantity': 193, 'original_price': 81, 'sale_price': 76}]\n",
    "\n",
    "order2 = [{'quantity': 82, 'original_price': 295, 'sale_price': 256},\n",
    "          {'quantity': 207, 'original_price': 29, 'sale_price': 28},\n",
    "          {'quantity': 130, 'original_price': 376, 'sale_price': 355}]\n",
    "\n",
    "assert calculate_total_savings(order1) == 37600\n",
    "assert calculate_total_savings(order2) == 6135"
   ]
  },
  {
   "cell_type": "markdown",
   "metadata": {},
   "source": [
    "## Statistical Measures\n",
    "\n",
    "Below we generate some data points representing 100 student exam scores for two schools."
   ]
  },
  {
   "cell_type": "code",
   "execution_count": 64,
   "metadata": {},
   "outputs": [],
   "source": [
    "# Import numpy\n",
    "import numpy as np\n",
    "\n",
    "# Import plotting library\n",
    "import matplotlib.pyplot as plt\n",
    "\n",
    "# Set seed for reproducibility\n",
    "np.random.seed(100)\n",
    "\n",
    "# Generate exam score data\n",
    "student_scores_school1 = 5*np.random.randn(100) + 80\n",
    "student_scores_school2 = 5*np.random.exponential(size=100) + 65"
   ]
  },
  {
   "cell_type": "code",
   "execution_count": 65,
   "metadata": {},
   "outputs": [
    {
     "data": {
      "image/png": "[encoded data removed]",
      "text/plain": [
       "<Figure size 576x432 with 1 Axes>"
      ]
     },
     "metadata": {
      "needs_background": "light"
     },
     "output_type": "display_data"
    }
   ],
   "source": [
    "plt.figure(figsize=(8,6))\n",
    "plt.hist(student_scores_school1)\n",
    "plt.title('Distribution of Student Exam Scores - School 1')\n",
    "plt.xlabel('Exam Scores')\n",
    "plt.ylabel('Count');"
   ]
  },
  {
   "cell_type": "code",
   "execution_count": 66,
   "metadata": {},
   "outputs": [
    {
     "data": {
      "image/png": "[encoded data removed]",
      "text/plain": [
       "<Figure size 576x432 with 1 Axes>"
      ]
     },
     "metadata": {
      "needs_background": "light"
     },
     "output_type": "display_data"
    }
   ],
   "source": [
    "plt.figure(figsize=(8,6))\n",
    "plt.hist(student_scores_school2)\n",
    "plt.title('Distribution of Student Exam Scores - School 2')\n",
    "plt.xlabel('Exam Scores')\n",
    "plt.ylabel('Count');"
   ]
  },
  {
   "cell_type": "markdown",
   "metadata": {},
   "source": [
    "#### Please answer the following questions:\n",
    "1. In the histograms above, what does the x-axis represent? What does the y-axis represent?\n",
    "2. Calculate the mean, median, and standard deviation for both samples.\n",
    "3. What do each of these values tell us about our samples?\n",
    "4. Would the mean or median be a better measure of central tendency for the first sample? What about the second?"
   ]
  },
  {
   "cell_type": "code",
   "execution_count": 70,
   "metadata": {},
   "outputs": [
    {
     "name": "stdout",
     "output_type": "stream",
     "text": [
      "Mean exam scores for school 1:  79.47917073077966\n"
     ]
    }
   ],
   "source": [
    "# Calculate the mean, median, and standard deviation for both samples\n",
    "\n",
    "# mean is sum of values divided by number of values\n",
    "print('Mean exam scores for school 1: ', sum(student_scores_school1)/len(student_scores_school1))"
   ]
  },
  {
   "cell_type": "code",
   "execution_count": 74,
   "metadata": {},
   "outputs": [
    {
     "name": "stdout",
     "output_type": "stream",
     "text": [
      "School 1\n",
      "--------\n",
      "Mean Score:  79.47917073077969\n",
      "Median Score:  79.81748492076647\n",
      "Standard Deviation of Scores:  4.848762481639408\n",
      "School 2\n",
      "--------\n",
      "Mean Score:  70.77167969989527\n",
      "Median Score:  68.38752926217674\n",
      "Standard Deviation of Scores:  6.284569750643076\n"
     ]
    }
   ],
   "source": [
    "# we can also use numpy mean function (np.mean()) to calculate it for us\n",
    "print('School 1')\n",
    "print('--------')\n",
    "print('Mean Score: ', np.mean(student_scores_school1))\n",
    "print('Median Score: ', np.median(student_scores_school1))\n",
    "print('Standard Deviation of Scores: ', np.std(student_scores_school1))\n",
    "\n",
    "print('School 2')\n",
    "print('--------')\n",
    "print('Mean Score: ', np.mean(student_scores_school2))\n",
    "print('Median Score: ', np.median(student_scores_school2))\n",
    "print('Standard Deviation of Scores: ', np.std(student_scores_school2))"
   ]
  },
  {
   "cell_type": "markdown",
   "metadata": {},
   "source": [
    "Answers to above questions:\n",
    "1. x-axis represents exam scores for students in sample. y-axis shows frequency of exam scores in sample (how many students received each score)\n",
    "2. Find statistical measurements in output of cell above.\n",
    "3. Mean gives us the average value of the sample (average student exam score). Median is the \"middle\" value of the sorted sample (50th percentile). Standard deviation tells us how the average difference between each individual data point (exam score) and the mean of the sample (average of all 100 exam scores).\n",
    "4. In the first sample, the distribution is more normally distributed (values evenly spread around mean) so mean is a good measurement. In the second sample, distribution is NOT normally distributed (most values clustered around 65-68 with a few extreme values towards 100) so median is a better measurement of the center."
   ]
  },
  {
   "cell_type": "code",
   "execution_count": null,
   "metadata": {},
   "outputs": [],
   "source": []
  },
  {
   "cell_type": "markdown",
   "metadata": {},
   "source": [
    "## Challenge - Two Sum\n",
    "\n",
    "Given a list of integers and an integer target, return indices of the two numbers such that they add up to the target.\n",
    "\n",
    "You may assume that each input will have exactly one solution, and you may not use the same element twice.\n",
    "\n",
    "```\n",
    "Input: nums = [2, 11, 7, 15], target = 9\n",
    "Output: [0, 2]\n",
    "Output: Because nums[0] + nums[1] == 9\n",
    "```"
   ]
  },
  {
   "cell_type": "code",
   "execution_count": 76,
   "metadata": {},
   "outputs": [],
   "source": [
    "# define target number\n",
    "nums = [2, 11, 7, 15]\n",
    "target = 9\n",
    "\n",
    "# iterate over list of numbers\n",
    "for i in range(len(nums)):\n",
    "\n",
    "    # second for loop starting at index AFTER previous for loop\n",
    "    for j in range(i+1, len(nums)):\n",
    "        \n",
    "        # compare the sum of number from first loop and number from second loop to target\n",
    "        sum_of_nums = nums[i] + nums[j]\n",
    "        \n",
    "        # if sum of two numbers equal target, we have found our solution\n",
    "        if sum_of_nums == target:\n",
    "            solution = [i, j]"
   ]
  },
  {
   "cell_type": "code",
   "execution_count": 77,
   "metadata": {},
   "outputs": [
    {
     "data": {
      "text/plain": [
       "[0, 2]"
      ]
     },
     "execution_count": 77,
     "metadata": {},
     "output_type": "execute_result"
    }
   ],
   "source": [
    "solution"
   ]
  },
  {
   "cell_type": "code",
   "execution_count": null,
   "metadata": {},
   "outputs": [],
   "source": []
  }
 ],
 "metadata": {
  "interpreter": {
   "hash": "b62cc8c47bfbbcf6d38740807be5ed703f63551e0b6a5f3e19f5f697e5dfbfd7"
  },
  "kernelspec": {
   "display_name": "Python 3",
   "language": "python",
   "name": "python3"
  },
  "language_info": {
   "codemirror_mode": {
    "name": "ipython",
    "version": 3
   },
   "file_extension": ".py",
   "mimetype": "text/x-python",
   "name": "python",
   "nbconvert_exporter": "python",
   "pygments_lexer": "ipython3",
   "version": "3.8.5"
  }
 },
 "nbformat": 4,
 "nbformat_minor": 2
}
